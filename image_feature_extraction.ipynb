{
 "cells": [
  {
   "cell_type": "code",
   "execution_count": null,
   "metadata": {
    "colab": {
     "base_uri": "https://localhost:8080/"
    },
    "executionInfo": {
     "elapsed": 1176,
     "status": "ok",
     "timestamp": 1610717494736,
     "user": {
      "displayName": "Rizky P. Nugroho",
      "photoUrl": "https://lh3.googleusercontent.com/a-/AOh14GhfGfTSVeninJ0B1l8mJI7zRStmfZQEXN4TN6EVgA=s64",
      "userId": "11961087904784672174"
     },
     "user_tz": -420
    },
    "id": "cqRKOM8Q8SMr",
    "outputId": "fe78aa4c-34a0-4247-fae7-6bd7f501a5a5"
   },
   "outputs": [
    {
     "name": "stdout",
     "output_type": "stream",
     "text": [
      "GPU 0: Tesla P100-PCIE-16GB (UUID: GPU-0553a41a-41e3-9e81-a52e-420df0134a7a)\n"
     ]
    }
   ],
   "source": [
    "!nvidia-smi -L"
   ]
  },
  {
   "cell_type": "markdown",
   "metadata": {
    "id": "dJKuUqLNamAG"
   },
   "source": [
    "# Download Dataset"
   ]
  },
  {
   "cell_type": "code",
   "execution_count": null,
   "metadata": {
    "id": "KjxinVdRGayd"
   },
   "outputs": [],
   "source": [
    "# Removed\n",
    "# Competition Use Only\n",
    "\n",
    "!mkdir '/content/feature_data/'"
   ]
  },
  {
   "cell_type": "markdown",
   "metadata": {
    "id": "S-eW3CRzaoeA"
   },
   "source": [
    "# Code"
   ]
  },
  {
   "cell_type": "code",
   "execution_count": null,
   "metadata": {
    "id": "KsOLt_eFHE1x"
   },
   "outputs": [],
   "source": [
    "import numpy as np\n",
    "import pandas as pd\n",
    "import joblib\n",
    "\n",
    "import tensorflow as tf\n",
    "from tensorflow.keras.preprocessing.image import ImageDataGenerator\n",
    "from tensorflow.keras.applications import EfficientNetB0, ResNet50\n",
    "\n",
    "from scipy.spatial import distance\n",
    "from scipy.stats import skew, kurtosis\n",
    "\n",
    "from sklearn.model_selection import train_test_split\n",
    "from sklearn.metrics import f1_score\n",
    "from lightgbm.sklearn import LGBMClassifier\n",
    "\n",
    "from PIL import Image, ImageFile\n",
    "ImageFile.LOAD_TRUNCATED_IMAGES = True"
   ]
  },
  {
   "cell_type": "code",
   "execution_count": null,
   "metadata": {
    "id": "5bhzhWMuHFS0"
   },
   "outputs": [],
   "source": [
    "PROJECT_DIR = '/content/drive/MyDrive/Colab Projects/product-pair-matching/'\n",
    "DATA_DIR = PROJECT_DIR+'data/'\n",
    "OUTPUTS_DIR = PROJECT_DIR+'outputs/'\n",
    "\n",
    "TRAIN_IMG_DIR = '/content/data/training_img/training_img'\n",
    "TEST_IMG_DIR = '/content/data/test_img/test_img'\n",
    "\n",
    "TARGET_SIZE = (224, 224)\n",
    "INPUT_SHAPE = (224, 224, 3)\n",
    "BATCH_SIZE = 256\n",
    "\n",
    "train_df = pd.read_csv(DATA_DIR+'raw/new_training_set.csv', index_col=0)\n",
    "test_df = pd.read_csv(DATA_DIR+'raw/new_test_set.csv', index_col=0)"
   ]
  },
  {
   "cell_type": "markdown",
   "metadata": {
    "id": "-N27ihLpYu0b"
   },
   "source": [
    "## Feature Extractor Model"
   ]
  },
  {
   "cell_type": "code",
   "execution_count": null,
   "metadata": {
    "id": "JAk8fKP4I7W2"
   },
   "outputs": [],
   "source": [
    "def create_model():\n",
    "    tf.keras.backend.clear_session()\n",
    "    print('Create model...')\n",
    "    pretrained_model = ResNet50(include_top=False,\n",
    "                                weights='imagenet',\n",
    "                                input_shape=INPUT_SHAPE)\n",
    "    x = pretrained_model.get_layer('conv5_block3_2_bn').output # ResNet50\n",
    "    # x = pretrained_model.get_layer('block7a_project_bn').output # EffnetB0\n",
    "    x = tf.keras.layers.GlobalAveragePooling2D(name=\"avg_pool\")(x)\n",
    "    \n",
    "    model = tf.keras.models.Model(inputs=pretrained_model.input,\n",
    "                                  outputs=x)\n",
    "    model.trainable = False\n",
    "    return model"
   ]
  },
  {
   "cell_type": "code",
   "execution_count": null,
   "metadata": {
    "colab": {
     "base_uri": "https://localhost:8080/"
    },
    "executionInfo": {
     "elapsed": 3754,
     "status": "ok",
     "timestamp": 1610717504222,
     "user": {
      "displayName": "Rizky P. Nugroho",
      "photoUrl": "https://lh3.googleusercontent.com/a-/AOh14GhfGfTSVeninJ0B1l8mJI7zRStmfZQEXN4TN6EVgA=s64",
      "userId": "11961087904784672174"
     },
     "user_tz": -420
    },
    "id": "HTze9vcYRztw",
    "outputId": "07467690-e9fe-4464-dea0-878704a7f43b"
   },
   "outputs": [
    {
     "name": "stdout",
     "output_type": "stream",
     "text": [
      "Create model...\n",
      "Save model...\n",
      "/content/models/resnet50-notop.h5\n"
     ]
    }
   ],
   "source": [
    "# MODEL_DIR = OUTPUTS_DIR+'extractor/resnet50-notop.h5'\n",
    "MODEL_DIR = '/content/models/resnet50-notop.h5'\n",
    "\n",
    "model = create_model()\n",
    "print('Save model...')\n",
    "model.save(MODEL_DIR)\n",
    "print(MODEL_DIR)"
   ]
  },
  {
   "cell_type": "markdown",
   "metadata": {
    "id": "xVnsh0_OOwAu"
   },
   "source": [
    "## Feature Extraction"
   ]
  },
  {
   "cell_type": "markdown",
   "metadata": {
    "id": "MVjWlIzxOyL5"
   },
   "source": [
    "### Create feature vector"
   ]
  },
  {
   "cell_type": "code",
   "execution_count": null,
   "metadata": {
    "id": "CzZL0N_NPiAP"
   },
   "outputs": [],
   "source": [
    "def calculate_distance(vect_1, vect_2):\n",
    "    return [\n",
    "        distance.euclidean(vect_1, vect_2),\n",
    "        distance.braycurtis(vect_1, vect_2),\n",
    "        distance.canberra(vect_1, vect_2),\n",
    "        distance.chebyshev(vect_1, vect_2),\n",
    "        distance.cityblock(vect_1, vect_2),\n",
    "        distance.cosine(vect_1, vect_2),\n",
    "        distance.minkowski(vect_1, vect_2),\n",
    "        skew(np.nan_to_num(vect_1)),\n",
    "        skew(np.nan_to_num(vect_2)),\n",
    "        kurtosis(np.nan_to_num(vect_1)),\n",
    "        kurtosis(np.nan_to_num(vect_2)),\n",
    "    ]\n",
    "\n",
    "def create_image_gen(df, x_col, img_dir):\n",
    "    datagen = ImageDataGenerator(rescale=1./255)\n",
    "\n",
    "    image_gen = datagen.flow_from_dataframe(\n",
    "        dataframe=df,\n",
    "        directory=img_dir,\n",
    "        x_col=x_col,\n",
    "        y_col=None,\n",
    "        class_mode=None,\n",
    "        target_size=TARGET_SIZE,\n",
    "        classes=None,\n",
    "        batch_size=BATCH_SIZE,\n",
    "        shuffle=False\n",
    "        )\n",
    "    return image_gen\n",
    "\n",
    "def create_image_feature(df, model, img_dir, dir):\n",
    "    print('Create image data generator...')\n",
    "    image_1_gen = create_image_gen(df, 'image_1', img_dir)\n",
    "    image_2_gen = create_image_gen(df, 'image_2', img_dir)\n",
    "\n",
    "    print('Calculate image vector...')\n",
    "    vect_1 = model.predict(image_1_gen, batch_size=BATCH_SIZE, verbose=1)\n",
    "    vect_2 = model.predict(image_2_gen, batch_size=BATCH_SIZE, verbose=1)\n",
    "\n",
    "    print('Calculate distance...')\n",
    "    distance = []\n",
    "    for i in range(len(vect_1)):\n",
    "        distance.append(calculate_distance(vect_1[i], vect_2[i]))\n",
    "\n",
    "    image_feat = np.concatenate([vect_1, vect_2, np.array(distance)],axis=1)\n",
    "    print('Save image vector...')\n",
    "    joblib.dump(image_feat, dir)\n",
    "    print(dir)\n",
    "    return image_feat"
   ]
  },
  {
   "cell_type": "code",
   "execution_count": null,
   "metadata": {
    "colab": {
     "base_uri": "https://localhost:8080/"
    },
    "executionInfo": {
     "elapsed": 822957,
     "status": "ok",
     "timestamp": 1610718327059,
     "user": {
      "displayName": "Rizky P. Nugroho",
      "photoUrl": "https://lh3.googleusercontent.com/a-/AOh14GhfGfTSVeninJ0B1l8mJI7zRStmfZQEXN4TN6EVgA=s64",
      "userId": "11961087904784672174"
     },
     "user_tz": -420
    },
    "id": "3iBeLwfkO2X0",
    "outputId": "298c3fa1-79af-483e-abea-b17af2775538"
   },
   "outputs": [
    {
     "name": "stdout",
     "output_type": "stream",
     "text": [
      "TRAIN DATA\n",
      "Create image data generator...\n",
      "Found 10181 validated image filenames.\n",
      "Found 10181 validated image filenames.\n",
      "Calculate image vector...\n",
      "40/40 [==============================] - 94s 2s/step\n",
      "40/40 [==============================] - 82s 2s/step\n",
      "Calculate distance...\n",
      "Save image vector...\n",
      "/content/drive/MyDrive/Colab Projects/product-pair-matching/data/interim/train_image_vector.pkl\n",
      "(10181, 1035)\n",
      "TEST DATA\n",
      "Create image data generator...\n",
      "Found 32580 validated image filenames.\n",
      "Found 32580 validated image filenames.\n",
      "Calculate image vector...\n",
      "128/128 [==============================] - 296s 2s/step\n",
      "128/128 [==============================] - 283s 2s/step\n",
      "Calculate distance...\n",
      "Save image vector...\n",
      "/content/drive/MyDrive/Colab Projects/product-pair-matching/data/interim/test_image_vector.pkl\n",
      "(32580, 1035)\n"
     ]
    }
   ],
   "source": [
    "print('TRAIN DATA')\n",
    "TRAIN_VECTOR_DIR = DATA_DIR+'interim/train_image_vector.pkl'\n",
    "train_image_vector = create_image_feature(train_df, model, TRAIN_IMG_DIR, TRAIN_VECTOR_DIR)\n",
    "print(train_image_vector.shape)\n",
    "\n",
    "print('TEST DATA')\n",
    "TEST_VECTOR_DIR = DATA_DIR+'interim/test_image_vector.pkl'\n",
    "test_image_vector = create_image_feature(test_df, model, TEST_IMG_DIR, TEST_VECTOR_DIR)\n",
    "print(test_image_vector.shape)\n"
   ]
  },
  {
   "cell_type": "markdown",
   "metadata": {
    "id": "U62YHlLKW9SR"
   },
   "source": [
    "### Create feature dataframe"
   ]
  },
  {
   "cell_type": "code",
   "execution_count": null,
   "metadata": {
    "id": "aFbsNxVDQ0JI"
   },
   "outputs": [],
   "source": [
    "def create_feature_df(df, vect, dir, label_col=None):\n",
    "    vect_len = 512\n",
    "    dist_len = 11\n",
    "    col_list = [f'img_1_{i}' for i in range(vect_len)] + \\\n",
    "                [f'img_2_{i}' for i in range(vect_len)] + \\\n",
    "                [f'img_dist_{i}' for i in range(dist_len)]\n",
    "\n",
    "    feats_df = pd.DataFrame(\n",
    "        data=vect,\n",
    "        columns=col_list)\n",
    "    \n",
    "    if label_col is not None:\n",
    "        feats_df[label_col] = df[label_col]\n",
    "\n",
    "    print('Save dataframe...')\n",
    "    feats_df.to_csv(dir, index=False)\n",
    "    print(dir)\n",
    "    return feats_df"
   ]
  },
  {
   "cell_type": "code",
   "execution_count": null,
   "metadata": {
    "colab": {
     "base_uri": "https://localhost:8080/"
    },
    "executionInfo": {
     "elapsed": 72466,
     "status": "ok",
     "timestamp": 1610718442600,
     "user": {
      "displayName": "Rizky P. Nugroho",
      "photoUrl": "https://lh3.googleusercontent.com/a-/AOh14GhfGfTSVeninJ0B1l8mJI7zRStmfZQEXN4TN6EVgA=s64",
      "userId": "11961087904784672174"
     },
     "user_tz": -420
    },
    "id": "UtQE8K6VXQwY",
    "outputId": "f9701ec9-3f55-494e-ce28-ef1e1293685d"
   },
   "outputs": [
    {
     "name": "stdout",
     "output_type": "stream",
     "text": [
      "TRAIN DATA\n",
      "Save dataframe...\n",
      "/content/drive/MyDrive/Colab Projects/product-pair-matching/data/clean/train_image_df.csv\n",
      "(10181, 1036)\n",
      "TEST DATA\n",
      "Save dataframe...\n",
      "/content/drive/MyDrive/Colab Projects/product-pair-matching/data/clean/test_image_df.csv\n",
      "(32580, 1035)\n"
     ]
    }
   ],
   "source": [
    "print('TRAIN DATA')\n",
    "TRAIN_DF_DIR = DATA_DIR+'clean/train_image_df.csv'\n",
    "train_image_df = create_feature_df(train_df, train_image_vector, TRAIN_DF_DIR, 'Label')\n",
    "print(train_image_df.shape)\n",
    "\n",
    "print('TEST DATA')\n",
    "TEST_DF_DIR = DATA_DIR+'clean/test_image_df.csv'\n",
    "test_image_df = create_feature_df(test_df, test_image_vector, TEST_DF_DIR)\n",
    "print(test_image_df.shape)"
   ]
  }
 ],
 "metadata": {
  "accelerator": "GPU",
  "colab": {
   "authorship_tag": "ABX9TyMCTgagUowlW1luvlhRZwor",
   "collapsed_sections": [],
   "mount_file_id": "14g5OtqrcnvyIvyGXZ_8Vp2ci4POVqkoO",
   "name": "image_feature_extraction.ipynb",
   "provenance": []
  },
  "kernelspec": {
   "display_name": "Python 3",
   "language": "python",
   "name": "python3"
  },
  "language_info": {
   "codemirror_mode": {
    "name": "ipython",
    "version": 3
   },
   "file_extension": ".py",
   "mimetype": "text/x-python",
   "name": "python",
   "nbconvert_exporter": "python",
   "pygments_lexer": "ipython3",
   "version": "3.7.9"
  }
 },
 "nbformat": 4,
 "nbformat_minor": 4
}
